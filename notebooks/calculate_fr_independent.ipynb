{
 "cells": [
  {
   "cell_type": "markdown",
   "metadata": {},
   "source": [
    "# Calculate Forgetting Rate (FR) Independent Version\n",
    "\n",
    "This notebook is for calculating Forgetting Rate (FR) metric (Independent Version) of continual learning experiments. We support calculating for multiple experiments (with respect to one reference joint learning experiment) in an output folder at the same time.\n",
    "\n",
    "Please specify all the settings (the cells tagged \"Please Specify\") following the instructions and Hit \"Run All\". "
   ]
  },
  {
   "cell_type": "markdown",
   "metadata": {},
   "source": [
    "## 1. Specify Output Folder\n",
    "\n",
    "Please specify the output folder path that you want to calcualate FR. "
   ]
  },
  {
   "cell_type": "code",
   "execution_count": null,
   "metadata": {
    "tags": [
     "Please Specify"
    ]
   },
   "outputs": [],
   "source": [
    "group_folder_path: str = \"../outputs/til_pmnist_finetuning/\""
   ]
  },
  {
   "cell_type": "markdown",
   "metadata": {},
   "source": [
    "Please specify the accuracy CSV file of the reference joint learning experiment. "
   ]
  },
  {
   "cell_type": "code",
   "execution_count": null,
   "metadata": {
    "tags": [
     "Please Specify"
    ]
   },
   "outputs": [],
   "source": [
    "ilref_acc_path: str = \"../outputs/til_pmnist_independent/acc.csv\""
   ]
  },
  {
   "cell_type": "markdown",
   "metadata": {},
   "source": [
    "Please specify the accuracy CSV file of the reference random experiment. "
   ]
  },
  {
   "cell_type": "code",
   "execution_count": null,
   "metadata": {
    "tags": [
     "Please Specify"
    ]
   },
   "outputs": [],
   "source": [
    "randref_acc_path: str = \"../outputs/random_til_pmnist_random/acc.csv\""
   ]
  },
  {
   "cell_type": "markdown",
   "metadata": {},
   "source": [
    "Please specify the relative path (with respect to result folder) of accuracy CSV file. Default is `results/acc.csv`."
   ]
  },
  {
   "cell_type": "code",
   "execution_count": null,
   "metadata": {
    "tags": [
     "Please Specify"
    ]
   },
   "outputs": [],
   "source": [
    "acc_relative_path: str = \"results/acc.csv\""
   ]
  },
  {
   "cell_type": "markdown",
   "metadata": {},
   "source": [
    "Please specify the relative path (with respect to result folder) of calculated FR CSV file. Default is `results/fr.csv`."
   ]
  },
  {
   "cell_type": "code",
   "execution_count": null,
   "metadata": {
    "tags": [
     "Please Specify"
    ]
   },
   "outputs": [],
   "source": [
    "fr_relative_path: str = \"results/fr.csv\""
   ]
  },
  {
   "cell_type": "markdown",
   "metadata": {},
   "source": [
    "Building paths..."
   ]
  },
  {
   "cell_type": "code",
   "execution_count": null,
   "metadata": {},
   "outputs": [],
   "source": [
    "import os\n",
    "\n",
    "output_folder_names = [f for f in os.listdir(group_folder_path) if os.path.isdir(os.path.join(group_folder_path, f))]"
   ]
  },
  {
   "cell_type": "markdown",
   "metadata": {},
   "source": [
    "## 2. Calculate FR\n",
    "\n",
    "We read the accuracy CSV files into Pandas Dataframes and calculate FR, then save to CSV files."
   ]
  },
  {
   "cell_type": "code",
   "execution_count": null,
   "metadata": {},
   "outputs": [],
   "source": [
    "import pandas as pd\n",
    "\n",
    "\n",
    "for folder_name in output_folder_names:\n",
    "    folder_path = os.path.join(group_folder_path, folder_name)\n",
    "    acc_path = os.path.join(folder_path, acc_relative_path)\n",
    "    fr_path = os.path.join(folder_path, fr_relative_path)\n",
    "\n",
    "    if not os.path.exists(acc_path):\n",
    "        print(f\"File {acc_path} does not exist. Skipping...\")\n",
    "        continue\n",
    "    \n",
    "    acc_df = pd.read_csv(acc_path)\n",
    "    ilref_acc_df = pd.read_csv(ilref_acc_path)\n",
    "    randref_acc_df = pd.read_csv(randref_acc_path)\n",
    "    \n",
    "    # Get the number of tasks\n",
    "    num_tasks = acc_df.shape[0]\n",
    "    \n",
    "    fr_data = []\n",
    "    for N in range(1, num_tasks + 1):\n",
    "        fr_N = 0.0\n",
    "        for t in range(1, N + 1):\n",
    "            a_t_N = acc_df.loc[acc_df['after_training_task'] == N, f'test_on_task_{t}'].values\n",
    "            a_t_I = ilref_acc_df.loc[ilref_acc_df['after_training_task'] == t, f'test_on_task_{t}'].values\n",
    "            a_t_R = randref_acc_df.loc[randref_acc_df['after_training_task'] == t, f'test_on_task_{t}'].values\n",
    "            fr_N += (a_t_N - a_t_R) / (a_t_I - a_t_R)\n",
    "        fr_N /= (N - 1)\n",
    "        fr_N -= 1\n",
    "        fr_data.append({'after_training_task': N, 'FR': fr_N})\n",
    "    \n",
    "    fr_df = pd.DataFrame(fr_data)\n",
    "\n",
    "    # Save FR to a CSV file\n",
    "    fr_df.to_csv(fr_path)\n",
    "    print(f\"Saved FR to {fr_path}\")"
   ]
  }
 ],
 "metadata": {
  "kernelspec": {
   "display_name": "work",
   "language": "python",
   "name": "python3"
  },
  "language_info": {
   "codemirror_mode": {
    "name": "ipython",
    "version": 3
   },
   "file_extension": ".py",
   "mimetype": "text/x-python",
   "name": "python",
   "nbconvert_exporter": "python",
   "pygments_lexer": "ipython3",
   "version": "3.12.8"
  }
 },
 "nbformat": 4,
 "nbformat_minor": 2
}
