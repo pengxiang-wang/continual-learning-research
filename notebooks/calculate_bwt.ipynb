{
 "cells": [
  {
   "cell_type": "markdown",
   "metadata": {},
   "source": [
    "# Calculate Backward Transfer (BWT)\n",
    "\n",
    "This notebook is for calculating Backward Transfer (BWT) metric of continual learning experiments. We support calculating for multiple experiments in an output folder at the same time.\n",
    "\n",
    "Please specify all the settings (the cells tagged \"Please Specify\") following the instructions and Hit \"Run All\". "
   ]
  },
  {
   "cell_type": "markdown",
   "metadata": {},
   "source": [
    "## 1. Specify Output Folder\n",
    "\n",
    "Please specify the folder path that you want to calcualate BWT. "
   ]
  },
  {
   "cell_type": "code",
   "execution_count": 95,
   "metadata": {
    "tags": [
     "Please Specify"
    ]
   },
   "outputs": [],
   "source": [
    "group_folder_path: str = \"../outputs/til_pmnist_finetuning/\""
   ]
  },
  {
   "cell_type": "markdown",
   "metadata": {},
   "source": [
    "Please specify the relative path (with respect to result folder) of accuracy CSV file. Default is `results/acc.csv`."
   ]
  },
  {
   "cell_type": "code",
   "execution_count": 96,
   "metadata": {
    "tags": [
     "Please Specify"
    ]
   },
   "outputs": [],
   "source": [
    "acc_relative_path: str = \"results/acc.csv\""
   ]
  },
  {
   "cell_type": "markdown",
   "metadata": {},
   "source": [
    "Please specify the relative path (with respect to result folder) of calculated BWT CSV file. Default is `results/bwt.csv`."
   ]
  },
  {
   "cell_type": "code",
   "execution_count": 97,
   "metadata": {},
   "outputs": [],
   "source": [
    "bwt_relative_path: str = \"results/bwt.csv\""
   ]
  },
  {
   "cell_type": "markdown",
   "metadata": {},
   "source": [
    "Building paths..."
   ]
  },
  {
   "cell_type": "code",
   "execution_count": 98,
   "metadata": {},
   "outputs": [],
   "source": [
    "import os\n",
    "\n",
    "output_folder_names = [f for f in os.listdir(group_folder_path) if os.path.isdir(os.path.join(group_folder_path, f))]"
   ]
  },
  {
   "cell_type": "markdown",
   "metadata": {},
   "source": [
    "## 2. Calculate BWT\n",
    "\n",
    "We read the accuracy CSV files into Pandas Dataframes and calculate BWT, then save to CSV files."
   ]
  },
  {
   "cell_type": "code",
   "execution_count": null,
   "metadata": {},
   "outputs": [
    {
     "name": "stdout",
     "output_type": "stream",
     "text": [
      "File ../outputs/til_pmnist_finetuning/2025-04-23_00-01-26/results/acc.csv does not exist. Skipping...\n",
      "File ../outputs/til_pmnist_finetuning/2025-05-03_16-41-15/results/acc.csv does not exist. Skipping...\n",
      "File ../outputs/til_pmnist_finetuning/2025-05-03_16-38-28/results/acc.csv does not exist. Skipping...\n",
      "File ../outputs/til_pmnist_finetuning/2025-05-03_16-37-26/results/acc.csv does not exist. Skipping...\n",
      "File ../outputs/til_pmnist_finetuning/2025-05-03_16-40-38/results/acc.csv does not exist. Skipping...\n",
      "File ../outputs/til_pmnist_finetuning/2025-05-03_16-40-53/results/acc.csv does not exist. Skipping...\n",
      "File ../outputs/til_pmnist_finetuning/2025-05-03_16-39-23/results/acc.csv does not exist. Skipping...\n",
      "File ../outputs/til_pmnist_finetuning/2025-05-03_16-38-49/results/acc.csv does not exist. Skipping...\n",
      "File ../outputs/til_pmnist_finetuning/2025-04-22_23-56-28/results/acc.csv does not exist. Skipping...\n",
      "   after_training_task  average_accuracy  test_on_task_1\n",
      "0                    1           0.97587         0.97587\n",
      "Empty DataFrame\n",
      "Columns: []\n",
      "Index: []\n",
      "Saved BWT to ../outputs/til_pmnist_finetuning/2025-05-04_11-56-37/results/bwt.csv\n",
      "   after_training_task  average_accuracy  test_on_task_1  test_on_task_2\n",
      "0                    1          0.975178        0.975178             NaN\n",
      "1                    2          0.673062        0.372132        0.973991\n",
      "[-0.60304588]\n",
      "   after_training_task                    BWT\n",
      "0                    2  [-0.6030458807945251]\n",
      "Saved BWT to ../outputs/til_pmnist_finetuning/2025-05-03_16-41-44/results/bwt.csv\n",
      "   after_training_task  average_accuracy  test_on_task_1  test_on_task_2\n",
      "0                    1          0.975574        0.975574             NaN\n",
      "1                    2          0.668265        0.359375        0.977156\n",
      "[-0.6161986]\n",
      "   after_training_task                    BWT\n",
      "0                    2  [-0.6161985993385316]\n",
      "Saved BWT to ../outputs/til_pmnist_finetuning/2025-05-03_16-42-48/results/bwt.csv\n",
      "File ../outputs/til_pmnist_finetuning/2025-05-04_11-57-40/results/acc.csv does not exist. Skipping...\n",
      "File ../outputs/til_pmnist_finetuning/2025-05-03_16-39-00/results/acc.csv does not exist. Skipping...\n"
     ]
    }
   ],
   "source": [
    "import pandas as pd\n",
    "\n",
    "\n",
    "for folder_name in output_folder_names:\n",
    "    folder_path = os.path.join(group_folder_path, folder_name)\n",
    "    acc_path = os.path.join(folder_path, acc_relative_path)\n",
    "    bwt_path = os.path.join(folder_path, bwt_relative_path)\n",
    "\n",
    "    if not os.path.exists(acc_path):\n",
    "        print(f\"File {acc_path} does not exist. Skipping...\")\n",
    "        continue\n",
    "    \n",
    "    acc_df = pd.read_csv(acc_path)\n",
    "    \n",
    "    # Get the number of tasks\n",
    "    num_tasks = acc_df.shape[0]\n",
    "    \n",
    "    bwt_data = []\n",
    "    for N in range(2, num_tasks + 1):  # skip the first task. BWT cannot be defined for it\n",
    "        bwt_N = 0.0\n",
    "        for t in range(1, N):\n",
    "            a_t_N = acc_df.loc[acc_df['after_training_task'] == N, f'test_on_task_{t}'].values\n",
    "            a_t_t = acc_df.loc[acc_df['after_training_task'] == t, f'test_on_task_{t}'].values\n",
    "            bwt_N += (a_t_N - a_t_t)\n",
    "        bwt_N /= (N - 1)\n",
    "        print(bwt_N)\n",
    "        bwt_data.append({'after_training_task': N, 'BWT': bwt_N})\n",
    "    \n",
    "    bwt_df = pd.DataFrame(bwt_data)\n",
    "\n",
    "    # Save BWT to a CSV file\n",
    "    bwt_df.to_csv(bwt_path)\n",
    "    print(f\"Saved BWT to {bwt_path}\")"
   ]
  }
 ],
 "metadata": {
  "kernelspec": {
   "display_name": "work",
   "language": "python",
   "name": "python3"
  },
  "language_info": {
   "codemirror_mode": {
    "name": "ipython",
    "version": 3
   },
   "file_extension": ".py",
   "mimetype": "text/x-python",
   "name": "python",
   "nbconvert_exporter": "python",
   "pygments_lexer": "ipython3",
   "version": "3.12.8"
  }
 },
 "nbformat": 4,
 "nbformat_minor": 2
}
