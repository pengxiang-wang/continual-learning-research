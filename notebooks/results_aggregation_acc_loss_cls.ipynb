{
 "cells": [
  {
   "cell_type": "markdown",
   "metadata": {},
   "source": [
    "# Results Aggregation (For Classification Accuracy and Loss)\n",
    "\n",
    "This notebook is for aggregating results of classification accuracy and loss under same experiment on multiple global seeds. \n",
    "\n",
    "Please set all the variables following the instructions and Hit \"Run All\". "
   ]
  },
  {
   "cell_type": "markdown",
   "metadata": {},
   "source": [
    "## 1. Specify Result Folders\n",
    "\n",
    "*We need you to group the folders in a seperate folder in advance. We will generate aggregated results under this folder.*\n",
    "\n",
    "Please specify this group folder path."
   ]
  },
  {
   "cell_type": "code",
   "execution_count": 63,
   "metadata": {},
   "outputs": [],
   "source": [
    "group_folder_path: str = \"../outputs_critical/Zhu_2025_03_05_seed_1-10_til_pmnist_cbphat_20_tasks/\""
   ]
  },
  {
   "cell_type": "markdown",
   "metadata": {},
   "source": [
    "(Optional) If you want to aggregate all the results in the folder, please set `if_all` as `True`. Otherwise, set it `False` and specify these result folder names."
   ]
  },
  {
   "cell_type": "code",
   "execution_count": 64,
   "metadata": {},
   "outputs": [],
   "source": [
    "if_all: bool = True\n",
    "result_folder_names: list[str] = []"
   ]
  },
  {
   "cell_type": "markdown",
   "metadata": {},
   "source": [
    "Please specify the relative path (with respect to result folder) of both accuracy and loss CSV files. Default is `results/acc.csv` and `results/loss_cls.csv`."
   ]
  },
  {
   "cell_type": "code",
   "execution_count": 65,
   "metadata": {},
   "outputs": [],
   "source": [
    "acc_relative_path: str = \"results/acc.csv\"\n",
    "loss_cls_relative_path: str = \"results/loss_cls.csv\""
   ]
  },
  {
   "cell_type": "markdown",
   "metadata": {},
   "source": [
    "Building paths..."
   ]
  },
  {
   "cell_type": "code",
   "execution_count": 66,
   "metadata": {},
   "outputs": [],
   "source": [
    "import os\n",
    "\n",
    "if if_all:\n",
    "    result_folder_names = [f for f in os.listdir(group_folder_path) if os.path.isdir(os.path.join(group_folder_path, f)) and f != \"aggregated_results\"]\n",
    "    \n",
    "acc_paths = [os.path.join(group_folder_path, f, acc_relative_path) for f in result_folder_names]\n",
    "loss_cls_paths = [os.path.join(group_folder_path, f, loss_cls_relative_path) for f in result_folder_names]"
   ]
  },
  {
   "cell_type": "markdown",
   "metadata": {},
   "source": [
    "## 2. Read and Process the CSV\n",
    "\n",
    "We read the CSV files into Pandas Dataframes and calculate the average and standard deviation."
   ]
  },
  {
   "cell_type": "code",
   "execution_count": 67,
   "metadata": {},
   "outputs": [],
   "source": [
    "import pandas as pd\n",
    "\n",
    "# dataframes to store results\n",
    "acc_df = []\n",
    "loss_cls_df = []\n",
    "\n",
    "# Read and aggregate all CSV files\n",
    "for acc_file, loss_cls_file in zip(acc_paths, loss_cls_paths):\n",
    "    acc_df.append(pd.read_csv(acc_file))\n",
    "    loss_cls_df.append(pd.read_csv(loss_cls_file))\n",
    "    \n",
    "acc_df_concat = pd.concat(acc_df, ignore_index=True)\n",
    "loss_cls_df_concat = pd.concat(loss_cls_df, ignore_index=True)\n",
    "\n",
    "acc_mean_df = acc_df_concat.groupby(\"after_training_task\").mean()\n",
    "acc_std_df = acc_df_concat.groupby(\"after_training_task\").std()\n",
    "\n",
    "loss_cls_mean_df = loss_cls_df_concat.groupby(\"after_training_task\").mean()\n",
    "loss_cls_std_df = loss_cls_df_concat.groupby(\"after_training_task\").std()\n",
    "    "
   ]
  },
  {
   "cell_type": "markdown",
   "metadata": {},
   "source": [
    "## 3. Save and Plot\n",
    "\n",
    "Please specify the relative path (with respect to group folder) of both aggregated accuracy and loss CSV files and plots."
   ]
  },
  {
   "cell_type": "code",
   "execution_count": 68,
   "metadata": {},
   "outputs": [],
   "source": [
    "# CSV files relative paths\n",
    "acc_mean_relative_path = \"aggregated_results/acc_mean.csv\"\n",
    "loss_cls_mean_relative_path = \"aggregated_results/loss_cls_mean.csv\"\n",
    "acc_std_relative_path = \"aggregated_results/acc_std.csv\"\n",
    "loss_cls_std_relative_path = \"aggregated_results/loss_cls_std.csv\"\n",
    "\n",
    "# Plots relative paths\n",
    "acc_matrix_mean_relative_path = \"aggregated_results/acc_matrix_mean.png\"\n",
    "loss_cls_matrix_mean_relative_path = \"aggregated_results/loss_cls_matrix_mean.png\"\n",
    "ave_acc_mean_plot_relative_path = \"aggregated_results/ave_acc_mean.png\"\n",
    "ave_loss_cls_mean_plot_relative_path = \"aggregated_results/ave_loss_cls_mean.png\""
   ]
  },
  {
   "cell_type": "markdown",
   "metadata": {},
   "source": [
    "Building paths..."
   ]
  },
  {
   "cell_type": "code",
   "execution_count": 69,
   "metadata": {},
   "outputs": [],
   "source": [
    "if not os.path.exists(os.path.join(group_folder_path, \"aggregated_results\")):\n",
    "    os.makedirs(os.path.join(group_folder_path, \"aggregated_results\"))\n",
    "\n",
    "acc_mean_path = os.path.join(group_folder_path, acc_mean_relative_path)\n",
    "loss_cls_mean_path = os.path.join(group_folder_path, loss_cls_mean_relative_path)\n",
    "acc_std_path = os.path.join(group_folder_path, acc_std_relative_path)\n",
    "loss_cls_std_path = os.path.join(group_folder_path, loss_cls_std_relative_path)\n",
    "\n",
    "acc_matrix_mean_path = os.path.join(group_folder_path, acc_matrix_mean_relative_path)\n",
    "loss_cls_matrix_mean_path = os.path.join(group_folder_path, loss_cls_matrix_mean_relative_path)\n",
    "ave_acc_mean_plot_path = os.path.join(group_folder_path, ave_acc_mean_plot_relative_path)\n",
    "ave_loss_cls_mean_plot_path = os.path.join(group_folder_path, ave_loss_cls_mean_plot_relative_path)\n"
   ]
  },
  {
   "cell_type": "markdown",
   "metadata": {},
   "source": [
    "Save the aggregated results as CSV files."
   ]
  },
  {
   "cell_type": "code",
   "execution_count": 70,
   "metadata": {},
   "outputs": [],
   "source": [
    "acc_mean_df.to_csv(acc_mean_path)\n",
    "acc_std_df.to_csv(acc_std_path)\n",
    "loss_cls_mean_df.to_csv(loss_cls_mean_path)\n",
    "loss_cls_std_df.to_csv(loss_cls_std_path)"
   ]
  },
  {
   "cell_type": "markdown",
   "metadata": {},
   "source": [
    "Plot the aggregated results and save the figures."
   ]
  },
  {
   "cell_type": "code",
   "execution_count": 71,
   "metadata": {},
   "outputs": [],
   "source": [
    "from clarena import utils\n",
    "\n",
    "utils.plot_test_acc_matrix_from_csv(csv_path=acc_mean_path, plot_path=acc_matrix_mean_path)\n",
    "utils.plot_test_loss_cls_matrix_from_csv(csv_path=loss_cls_mean_path, plot_path=loss_cls_matrix_mean_path)\n",
    "utils.plot_test_ave_acc_curve_from_csv(csv_path=acc_mean_path, plot_path=ave_acc_mean_plot_path)\n",
    "utils.plot_test_ave_loss_cls_curve_from_csv(csv_path=loss_cls_mean_path, plot_path=ave_loss_cls_mean_plot_path)"
   ]
  }
 ],
 "metadata": {
  "kernelspec": {
   "display_name": "work",
   "language": "python",
   "name": "python3"
  },
  "language_info": {
   "codemirror_mode": {
    "name": "ipython",
    "version": 3
   },
   "file_extension": ".py",
   "mimetype": "text/x-python",
   "name": "python",
   "nbconvert_exporter": "python",
   "pygments_lexer": "ipython3",
   "version": "3.12.8"
  }
 },
 "nbformat": 4,
 "nbformat_minor": 2
}
